{
 "cells": [
  {
   "cell_type": "code",
   "execution_count": null,
   "id": "4915df0b",
   "metadata": {},
   "outputs": [],
   "source": []
  },
  {
   "cell_type": "code",
   "execution_count": 6,
   "id": "6b665b56",
   "metadata": {
    "ExecuteTime": {
     "end_time": "2024-08-23T10:15:40.819984Z",
     "start_time": "2024-08-23T10:15:40.809037Z"
    }
   },
   "outputs": [],
   "source": [
    "import pandas as pd\n",
    "import numpy as np\n",
    "import matplotlib.pyplot as plt\n",
    "import seaborn as sns"
   ]
  },
  {
   "cell_type": "code",
   "execution_count": 7,
   "id": "69b6d440",
   "metadata": {
    "ExecuteTime": {
     "end_time": "2024-08-23T10:15:42.231408Z",
     "start_time": "2024-08-23T10:15:42.209104Z"
    }
   },
   "outputs": [
    {
     "data": {
      "text/html": [
       "<div>\n",
       "<style scoped>\n",
       "    .dataframe tbody tr th:only-of-type {\n",
       "        vertical-align: middle;\n",
       "    }\n",
       "\n",
       "    .dataframe tbody tr th {\n",
       "        vertical-align: top;\n",
       "    }\n",
       "\n",
       "    .dataframe thead th {\n",
       "        text-align: right;\n",
       "    }\n",
       "</style>\n",
       "<table border=\"1\" class=\"dataframe\">\n",
       "  <thead>\n",
       "    <tr style=\"text-align: right;\">\n",
       "      <th></th>\n",
       "      <th>EmpID</th>\n",
       "      <th>BusinessTravel</th>\n",
       "      <th>Department</th>\n",
       "      <th>HourlyRate</th>\n",
       "      <th>JobLevel</th>\n",
       "      <th>JobRole</th>\n",
       "      <th>JobSatisfaction</th>\n",
       "      <th>MonthlyRate</th>\n",
       "      <th>NumCompaniesWorked</th>\n",
       "      <th>OverTime</th>\n",
       "      <th>PercentSalaryHike</th>\n",
       "      <th>TotalWorkingYears</th>\n",
       "      <th>WorkLifeBalance</th>\n",
       "      <th>YearsAtCompany</th>\n",
       "      <th>YearsInCurrentRole</th>\n",
       "      <th>YearsSinceLastPromotion</th>\n",
       "      <th>YearsWithCurrManager</th>\n",
       "      <th>Attrition</th>\n",
       "    </tr>\n",
       "  </thead>\n",
       "  <tbody>\n",
       "    <tr>\n",
       "      <th>0</th>\n",
       "      <td>2102210</td>\n",
       "      <td>Travel_Rarely</td>\n",
       "      <td>Sales</td>\n",
       "      <td>94</td>\n",
       "      <td>2.0</td>\n",
       "      <td>Sales Executive</td>\n",
       "      <td>4</td>\n",
       "      <td>19479</td>\n",
       "      <td>8</td>\n",
       "      <td>Yes</td>\n",
       "      <td>11</td>\n",
       "      <td>8</td>\n",
       "      <td>1.0</td>\n",
       "      <td>6</td>\n",
       "      <td>4</td>\n",
       "      <td>0</td>\n",
       "      <td>5</td>\n",
       "      <td>Yes</td>\n",
       "    </tr>\n",
       "    <tr>\n",
       "      <th>1</th>\n",
       "      <td>2102211</td>\n",
       "      <td>Travel_Frequently</td>\n",
       "      <td>Research &amp; Development</td>\n",
       "      <td>61</td>\n",
       "      <td>2.0</td>\n",
       "      <td>Research Scientist</td>\n",
       "      <td>2</td>\n",
       "      <td>24907</td>\n",
       "      <td>1</td>\n",
       "      <td>No</td>\n",
       "      <td>23</td>\n",
       "      <td>10</td>\n",
       "      <td>3.0</td>\n",
       "      <td>10</td>\n",
       "      <td>7</td>\n",
       "      <td>1</td>\n",
       "      <td>7</td>\n",
       "      <td>No</td>\n",
       "    </tr>\n",
       "    <tr>\n",
       "      <th>2</th>\n",
       "      <td>2102212</td>\n",
       "      <td>Travel_Rarely</td>\n",
       "      <td>Research &amp; Development</td>\n",
       "      <td>92</td>\n",
       "      <td>1.0</td>\n",
       "      <td>Laboratory Technician</td>\n",
       "      <td>3</td>\n",
       "      <td>2396</td>\n",
       "      <td>6</td>\n",
       "      <td>Yes</td>\n",
       "      <td>15</td>\n",
       "      <td>7</td>\n",
       "      <td>3.0</td>\n",
       "      <td>0</td>\n",
       "      <td>0</td>\n",
       "      <td>0</td>\n",
       "      <td>0</td>\n",
       "      <td>Yes</td>\n",
       "    </tr>\n",
       "    <tr>\n",
       "      <th>3</th>\n",
       "      <td>2102213</td>\n",
       "      <td>Travel_Frequently</td>\n",
       "      <td>Research &amp; Development</td>\n",
       "      <td>56</td>\n",
       "      <td>1.0</td>\n",
       "      <td>Research Scientist</td>\n",
       "      <td>3</td>\n",
       "      <td>23159</td>\n",
       "      <td>1</td>\n",
       "      <td>Yes</td>\n",
       "      <td>11</td>\n",
       "      <td>8</td>\n",
       "      <td>3.0</td>\n",
       "      <td>8</td>\n",
       "      <td>7</td>\n",
       "      <td>3</td>\n",
       "      <td>0</td>\n",
       "      <td>No</td>\n",
       "    </tr>\n",
       "    <tr>\n",
       "      <th>4</th>\n",
       "      <td>2102214</td>\n",
       "      <td>Travel_Rarely</td>\n",
       "      <td>Research &amp; Development</td>\n",
       "      <td>40</td>\n",
       "      <td>1.0</td>\n",
       "      <td>Laboratory Technician</td>\n",
       "      <td>2</td>\n",
       "      <td>16632</td>\n",
       "      <td>9</td>\n",
       "      <td>No</td>\n",
       "      <td>12</td>\n",
       "      <td>6</td>\n",
       "      <td>3.0</td>\n",
       "      <td>2</td>\n",
       "      <td>2</td>\n",
       "      <td>2</td>\n",
       "      <td>2</td>\n",
       "      <td>No</td>\n",
       "    </tr>\n",
       "  </tbody>\n",
       "</table>\n",
       "</div>"
      ],
      "text/plain": [
       "     EmpID     BusinessTravel              Department  HourlyRate  JobLevel  \\\n",
       "0  2102210      Travel_Rarely                   Sales          94       2.0   \n",
       "1  2102211  Travel_Frequently  Research & Development          61       2.0   \n",
       "2  2102212      Travel_Rarely  Research & Development          92       1.0   \n",
       "3  2102213  Travel_Frequently  Research & Development          56       1.0   \n",
       "4  2102214      Travel_Rarely  Research & Development          40       1.0   \n",
       "\n",
       "                 JobRole  JobSatisfaction  MonthlyRate  NumCompaniesWorked  \\\n",
       "0        Sales Executive                4        19479                   8   \n",
       "1     Research Scientist                2        24907                   1   \n",
       "2  Laboratory Technician                3         2396                   6   \n",
       "3     Research Scientist                3        23159                   1   \n",
       "4  Laboratory Technician                2        16632                   9   \n",
       "\n",
       "  OverTime  PercentSalaryHike  TotalWorkingYears  WorkLifeBalance  \\\n",
       "0      Yes                 11                  8              1.0   \n",
       "1       No                 23                 10              3.0   \n",
       "2      Yes                 15                  7              3.0   \n",
       "3      Yes                 11                  8              3.0   \n",
       "4       No                 12                  6              3.0   \n",
       "\n",
       "   YearsAtCompany  YearsInCurrentRole  YearsSinceLastPromotion  \\\n",
       "0               6                   4                        0   \n",
       "1              10                   7                        1   \n",
       "2               0                   0                        0   \n",
       "3               8                   7                        3   \n",
       "4               2                   2                        2   \n",
       "\n",
       "   YearsWithCurrManager Attrition  \n",
       "0                     5       Yes  \n",
       "1                     7        No  \n",
       "2                     0       Yes  \n",
       "3                     0        No  \n",
       "4                     2        No  "
      ]
     },
     "execution_count": 7,
     "metadata": {},
     "output_type": "execute_result"
    }
   ],
   "source": [
    "df = pd.read_csv('Company.csv')\n",
    "df.head()"
   ]
  },
  {
   "cell_type": "code",
   "execution_count": 8,
   "id": "58cee06a",
   "metadata": {
    "ExecuteTime": {
     "end_time": "2024-08-23T10:15:42.972223Z",
     "start_time": "2024-08-23T10:15:42.956347Z"
    }
   },
   "outputs": [
    {
     "data": {
      "text/plain": [
       "EmpID                      0\n",
       "BusinessTravel             0\n",
       "Department                 0\n",
       "HourlyRate                 0\n",
       "JobLevel                   6\n",
       "JobRole                    0\n",
       "JobSatisfaction            0\n",
       "MonthlyRate                0\n",
       "NumCompaniesWorked         0\n",
       "OverTime                   0\n",
       "PercentSalaryHike          0\n",
       "TotalWorkingYears          0\n",
       "WorkLifeBalance            4\n",
       "YearsAtCompany             0\n",
       "YearsInCurrentRole         0\n",
       "YearsSinceLastPromotion    0\n",
       "YearsWithCurrManager       0\n",
       "Attrition                  0\n",
       "dtype: int64"
      ]
     },
     "execution_count": 8,
     "metadata": {},
     "output_type": "execute_result"
    }
   ],
   "source": [
    "df.isnull().sum()"
   ]
  },
  {
   "cell_type": "code",
   "execution_count": 9,
   "id": "6ee1f219",
   "metadata": {
    "ExecuteTime": {
     "end_time": "2024-08-23T10:15:43.605031Z",
     "start_time": "2024-08-23T10:15:43.592068Z"
    }
   },
   "outputs": [],
   "source": [
    "df.drop(columns='JobLevel',axis=0,inplace=True)"
   ]
  },
  {
   "cell_type": "code",
   "execution_count": 10,
   "id": "f0b3b11f",
   "metadata": {
    "ExecuteTime": {
     "end_time": "2024-08-23T10:15:44.138722Z",
     "start_time": "2024-08-23T10:15:44.113824Z"
    }
   },
   "outputs": [
    {
     "data": {
      "text/html": [
       "<div>\n",
       "<style scoped>\n",
       "    .dataframe tbody tr th:only-of-type {\n",
       "        vertical-align: middle;\n",
       "    }\n",
       "\n",
       "    .dataframe tbody tr th {\n",
       "        vertical-align: top;\n",
       "    }\n",
       "\n",
       "    .dataframe thead th {\n",
       "        text-align: right;\n",
       "    }\n",
       "</style>\n",
       "<table border=\"1\" class=\"dataframe\">\n",
       "  <thead>\n",
       "    <tr style=\"text-align: right;\">\n",
       "      <th></th>\n",
       "      <th>EmpID</th>\n",
       "      <th>BusinessTravel</th>\n",
       "      <th>Department</th>\n",
       "      <th>HourlyRate</th>\n",
       "      <th>JobRole</th>\n",
       "      <th>JobSatisfaction</th>\n",
       "      <th>MonthlyRate</th>\n",
       "      <th>NumCompaniesWorked</th>\n",
       "      <th>OverTime</th>\n",
       "      <th>PercentSalaryHike</th>\n",
       "      <th>TotalWorkingYears</th>\n",
       "      <th>WorkLifeBalance</th>\n",
       "      <th>YearsAtCompany</th>\n",
       "      <th>YearsInCurrentRole</th>\n",
       "      <th>YearsSinceLastPromotion</th>\n",
       "      <th>YearsWithCurrManager</th>\n",
       "      <th>Attrition</th>\n",
       "    </tr>\n",
       "  </thead>\n",
       "  <tbody>\n",
       "    <tr>\n",
       "      <th>0</th>\n",
       "      <td>2102210</td>\n",
       "      <td>Travel_Rarely</td>\n",
       "      <td>Sales</td>\n",
       "      <td>94</td>\n",
       "      <td>Sales Executive</td>\n",
       "      <td>4</td>\n",
       "      <td>19479</td>\n",
       "      <td>8</td>\n",
       "      <td>Yes</td>\n",
       "      <td>11</td>\n",
       "      <td>8</td>\n",
       "      <td>1.0</td>\n",
       "      <td>6</td>\n",
       "      <td>4</td>\n",
       "      <td>0</td>\n",
       "      <td>5</td>\n",
       "      <td>Yes</td>\n",
       "    </tr>\n",
       "    <tr>\n",
       "      <th>1</th>\n",
       "      <td>2102211</td>\n",
       "      <td>Travel_Frequently</td>\n",
       "      <td>Research &amp; Development</td>\n",
       "      <td>61</td>\n",
       "      <td>Research Scientist</td>\n",
       "      <td>2</td>\n",
       "      <td>24907</td>\n",
       "      <td>1</td>\n",
       "      <td>No</td>\n",
       "      <td>23</td>\n",
       "      <td>10</td>\n",
       "      <td>3.0</td>\n",
       "      <td>10</td>\n",
       "      <td>7</td>\n",
       "      <td>1</td>\n",
       "      <td>7</td>\n",
       "      <td>No</td>\n",
       "    </tr>\n",
       "    <tr>\n",
       "      <th>2</th>\n",
       "      <td>2102212</td>\n",
       "      <td>Travel_Rarely</td>\n",
       "      <td>Research &amp; Development</td>\n",
       "      <td>92</td>\n",
       "      <td>Laboratory Technician</td>\n",
       "      <td>3</td>\n",
       "      <td>2396</td>\n",
       "      <td>6</td>\n",
       "      <td>Yes</td>\n",
       "      <td>15</td>\n",
       "      <td>7</td>\n",
       "      <td>3.0</td>\n",
       "      <td>0</td>\n",
       "      <td>0</td>\n",
       "      <td>0</td>\n",
       "      <td>0</td>\n",
       "      <td>Yes</td>\n",
       "    </tr>\n",
       "    <tr>\n",
       "      <th>3</th>\n",
       "      <td>2102213</td>\n",
       "      <td>Travel_Frequently</td>\n",
       "      <td>Research &amp; Development</td>\n",
       "      <td>56</td>\n",
       "      <td>Research Scientist</td>\n",
       "      <td>3</td>\n",
       "      <td>23159</td>\n",
       "      <td>1</td>\n",
       "      <td>Yes</td>\n",
       "      <td>11</td>\n",
       "      <td>8</td>\n",
       "      <td>3.0</td>\n",
       "      <td>8</td>\n",
       "      <td>7</td>\n",
       "      <td>3</td>\n",
       "      <td>0</td>\n",
       "      <td>No</td>\n",
       "    </tr>\n",
       "    <tr>\n",
       "      <th>4</th>\n",
       "      <td>2102214</td>\n",
       "      <td>Travel_Rarely</td>\n",
       "      <td>Research &amp; Development</td>\n",
       "      <td>40</td>\n",
       "      <td>Laboratory Technician</td>\n",
       "      <td>2</td>\n",
       "      <td>16632</td>\n",
       "      <td>9</td>\n",
       "      <td>No</td>\n",
       "      <td>12</td>\n",
       "      <td>6</td>\n",
       "      <td>3.0</td>\n",
       "      <td>2</td>\n",
       "      <td>2</td>\n",
       "      <td>2</td>\n",
       "      <td>2</td>\n",
       "      <td>No</td>\n",
       "    </tr>\n",
       "  </tbody>\n",
       "</table>\n",
       "</div>"
      ],
      "text/plain": [
       "     EmpID     BusinessTravel              Department  HourlyRate  \\\n",
       "0  2102210      Travel_Rarely                   Sales          94   \n",
       "1  2102211  Travel_Frequently  Research & Development          61   \n",
       "2  2102212      Travel_Rarely  Research & Development          92   \n",
       "3  2102213  Travel_Frequently  Research & Development          56   \n",
       "4  2102214      Travel_Rarely  Research & Development          40   \n",
       "\n",
       "                 JobRole  JobSatisfaction  MonthlyRate  NumCompaniesWorked  \\\n",
       "0        Sales Executive                4        19479                   8   \n",
       "1     Research Scientist                2        24907                   1   \n",
       "2  Laboratory Technician                3         2396                   6   \n",
       "3     Research Scientist                3        23159                   1   \n",
       "4  Laboratory Technician                2        16632                   9   \n",
       "\n",
       "  OverTime  PercentSalaryHike  TotalWorkingYears  WorkLifeBalance  \\\n",
       "0      Yes                 11                  8              1.0   \n",
       "1       No                 23                 10              3.0   \n",
       "2      Yes                 15                  7              3.0   \n",
       "3      Yes                 11                  8              3.0   \n",
       "4       No                 12                  6              3.0   \n",
       "\n",
       "   YearsAtCompany  YearsInCurrentRole  YearsSinceLastPromotion  \\\n",
       "0               6                   4                        0   \n",
       "1              10                   7                        1   \n",
       "2               0                   0                        0   \n",
       "3               8                   7                        3   \n",
       "4               2                   2                        2   \n",
       "\n",
       "   YearsWithCurrManager Attrition  \n",
       "0                     5       Yes  \n",
       "1                     7        No  \n",
       "2                     0       Yes  \n",
       "3                     0        No  \n",
       "4                     2        No  "
      ]
     },
     "execution_count": 10,
     "metadata": {},
     "output_type": "execute_result"
    }
   ],
   "source": [
    "df.head()"
   ]
  },
  {
   "cell_type": "code",
   "execution_count": 11,
   "id": "cec195ab",
   "metadata": {
    "ExecuteTime": {
     "end_time": "2024-08-23T10:15:44.618922Z",
     "start_time": "2024-08-23T10:15:44.604667Z"
    }
   },
   "outputs": [],
   "source": [
    "df.drop(columns='WorkLifeBalance',axis=0,inplace=True)"
   ]
  },
  {
   "cell_type": "code",
   "execution_count": 12,
   "id": "36195342",
   "metadata": {
    "ExecuteTime": {
     "end_time": "2024-08-23T10:15:44.852814Z",
     "start_time": "2024-08-23T10:15:44.827710Z"
    }
   },
   "outputs": [
    {
     "data": {
      "text/plain": [
       "EmpID                      0\n",
       "BusinessTravel             0\n",
       "Department                 0\n",
       "HourlyRate                 0\n",
       "JobRole                    0\n",
       "JobSatisfaction            0\n",
       "MonthlyRate                0\n",
       "NumCompaniesWorked         0\n",
       "OverTime                   0\n",
       "PercentSalaryHike          0\n",
       "TotalWorkingYears          0\n",
       "YearsAtCompany             0\n",
       "YearsInCurrentRole         0\n",
       "YearsSinceLastPromotion    0\n",
       "YearsWithCurrManager       0\n",
       "Attrition                  0\n",
       "dtype: int64"
      ]
     },
     "execution_count": 12,
     "metadata": {},
     "output_type": "execute_result"
    }
   ],
   "source": [
    "df.isnull().sum()"
   ]
  },
  {
   "cell_type": "code",
   "execution_count": 13,
   "id": "9caeb68a",
   "metadata": {
    "ExecuteTime": {
     "end_time": "2024-08-23T10:15:45.079013Z",
     "start_time": "2024-08-23T10:15:45.039269Z"
    }
   },
   "outputs": [
    {
     "data": {
      "text/plain": [
       "0"
      ]
     },
     "execution_count": 13,
     "metadata": {},
     "output_type": "execute_result"
    }
   ],
   "source": [
    "df.duplicated().sum()"
   ]
  },
  {
   "cell_type": "code",
   "execution_count": 14,
   "id": "eacba8a2",
   "metadata": {
    "ExecuteTime": {
     "end_time": "2024-08-23T10:15:45.286393Z",
     "start_time": "2024-08-23T10:15:45.261196Z"
    }
   },
   "outputs": [
    {
     "data": {
      "text/plain": [
       "No     0.838776\n",
       "Yes    0.161224\n",
       "Name: Attrition, dtype: float64"
      ]
     },
     "execution_count": 14,
     "metadata": {},
     "output_type": "execute_result"
    }
   ],
   "source": [
    "df['Attrition']+69*.value_counts(normalize=True)"
   ]
  },
  {
   "cell_type": "markdown",
   "id": "3482b3be",
   "metadata": {
    "ExecuteTime": {
     "end_time": "2024-08-22T06:13:36.843144Z",
     "start_time": "2024-08-22T06:13:36.818623Z"
    }
   },
   "source": [
    "**EDA**"
   ]
  },
  {
   "cell_type": "code",
   "execution_count": 15,
   "id": "1d3cb1c5",
   "metadata": {
    "ExecuteTime": {
     "end_time": "2024-08-23T10:15:45.753410Z",
     "start_time": "2024-08-23T10:15:45.724816Z"
    }
   },
   "outputs": [
    {
     "data": {
      "text/plain": [
       "Index(['EmpID', 'BusinessTravel', 'Department', 'HourlyRate', 'JobRole',\n",
       "       'JobSatisfaction', 'MonthlyRate', 'NumCompaniesWorked', 'OverTime',\n",
       "       'PercentSalaryHike', 'TotalWorkingYears', 'YearsAtCompany',\n",
       "       'YearsInCurrentRole', 'YearsSinceLastPromotion', 'YearsWithCurrManager',\n",
       "       'Attrition'],\n",
       "      dtype='object')"
      ]
     },
     "execution_count": 15,
     "metadata": {},
     "output_type": "execute_result"
    }
   ],
   "source": [
    "df.columns"
   ]
  },
  {
   "cell_type": "code",
   "execution_count": 16,
   "id": "acfdf8d6",
   "metadata": {
    "ExecuteTime": {
     "end_time": "2024-08-23T10:15:45.989918Z",
     "start_time": "2024-08-23T10:15:45.939707Z"
    }
   },
   "outputs": [
    {
     "data": {
      "text/html": [
       "<div>\n",
       "<style scoped>\n",
       "    .dataframe tbody tr th:only-of-type {\n",
       "        vertical-align: middle;\n",
       "    }\n",
       "\n",
       "    .dataframe tbody tr th {\n",
       "        vertical-align: top;\n",
       "    }\n",
       "\n",
       "    .dataframe thead th {\n",
       "        text-align: right;\n",
       "    }\n",
       "</style>\n",
       "<table border=\"1\" class=\"dataframe\">\n",
       "  <thead>\n",
       "    <tr style=\"text-align: right;\">\n",
       "      <th>Attrition</th>\n",
       "      <th>No</th>\n",
       "      <th>Yes</th>\n",
       "    </tr>\n",
       "    <tr>\n",
       "      <th>Department</th>\n",
       "      <th></th>\n",
       "      <th></th>\n",
       "    </tr>\n",
       "  </thead>\n",
       "  <tbody>\n",
       "    <tr>\n",
       "      <th>Human Resources</th>\n",
       "      <td>51</td>\n",
       "      <td>12</td>\n",
       "    </tr>\n",
       "    <tr>\n",
       "      <th>Research &amp; Development</th>\n",
       "      <td>828</td>\n",
       "      <td>133</td>\n",
       "    </tr>\n",
       "    <tr>\n",
       "      <th>Sales</th>\n",
       "      <td>354</td>\n",
       "      <td>92</td>\n",
       "    </tr>\n",
       "  </tbody>\n",
       "</table>\n",
       "</div>"
      ],
      "text/plain": [
       "Attrition                No  Yes\n",
       "Department                      \n",
       "Human Resources          51   12\n",
       "Research & Development  828  133\n",
       "Sales                   354   92"
      ]
     },
     "execution_count": 16,
     "metadata": {},
     "output_type": "execute_result"
    }
   ],
   "source": [
    "pd.crosstab(df.Department,df.Attrition)"
   ]
  },
  {
   "cell_type": "code",
   "execution_count": 17,
   "id": "64169677",
   "metadata": {
    "ExecuteTime": {
     "end_time": "2024-08-23T10:15:46.186614Z",
     "start_time": "2024-08-23T10:15:46.158874Z"
    }
   },
   "outputs": [
    {
     "data": {
      "text/html": [
       "<div>\n",
       "<style scoped>\n",
       "    .dataframe tbody tr th:only-of-type {\n",
       "        vertical-align: middle;\n",
       "    }\n",
       "\n",
       "    .dataframe tbody tr th {\n",
       "        vertical-align: top;\n",
       "    }\n",
       "\n",
       "    .dataframe thead th {\n",
       "        text-align: right;\n",
       "    }\n",
       "</style>\n",
       "<table border=\"1\" class=\"dataframe\">\n",
       "  <thead>\n",
       "    <tr style=\"text-align: right;\">\n",
       "      <th>OverTime</th>\n",
       "      <th>No</th>\n",
       "      <th>Yes</th>\n",
       "    </tr>\n",
       "    <tr>\n",
       "      <th>JobRole</th>\n",
       "      <th></th>\n",
       "      <th></th>\n",
       "    </tr>\n",
       "  </thead>\n",
       "  <tbody>\n",
       "    <tr>\n",
       "      <th>Healthcare Representative</th>\n",
       "      <td>94</td>\n",
       "      <td>37</td>\n",
       "    </tr>\n",
       "    <tr>\n",
       "      <th>Human Resources</th>\n",
       "      <td>39</td>\n",
       "      <td>13</td>\n",
       "    </tr>\n",
       "    <tr>\n",
       "      <th>Laboratory Technician</th>\n",
       "      <td>197</td>\n",
       "      <td>62</td>\n",
       "    </tr>\n",
       "    <tr>\n",
       "      <th>Manager</th>\n",
       "      <td>75</td>\n",
       "      <td>27</td>\n",
       "    </tr>\n",
       "    <tr>\n",
       "      <th>Manufacturing Director</th>\n",
       "      <td>106</td>\n",
       "      <td>39</td>\n",
       "    </tr>\n",
       "    <tr>\n",
       "      <th>Research Director</th>\n",
       "      <td>57</td>\n",
       "      <td>23</td>\n",
       "    </tr>\n",
       "    <tr>\n",
       "      <th>Research Scientist</th>\n",
       "      <td>195</td>\n",
       "      <td>97</td>\n",
       "    </tr>\n",
       "    <tr>\n",
       "      <th>Sales Executive</th>\n",
       "      <td>232</td>\n",
       "      <td>94</td>\n",
       "    </tr>\n",
       "    <tr>\n",
       "      <th>Sales Representative</th>\n",
       "      <td>59</td>\n",
       "      <td>24</td>\n",
       "    </tr>\n",
       "  </tbody>\n",
       "</table>\n",
       "</div>"
      ],
      "text/plain": [
       "OverTime                    No  Yes\n",
       "JobRole                            \n",
       "Healthcare Representative   94   37\n",
       "Human Resources             39   13\n",
       "Laboratory Technician      197   62\n",
       "Manager                     75   27\n",
       "Manufacturing Director     106   39\n",
       "Research Director           57   23\n",
       "Research Scientist         195   97\n",
       "Sales Executive            232   94\n",
       "Sales Representative        59   24"
      ]
     },
     "execution_count": 17,
     "metadata": {},
     "output_type": "execute_result"
    }
   ],
   "source": [
    "pd.crosstab(df.JobRole, df.OverTime)"
   ]
  },
  {
   "cell_type": "code",
   "execution_count": 18,
   "id": "ffe4ab39",
   "metadata": {
    "ExecuteTime": {
     "end_time": "2024-08-23T10:15:46.436550Z",
     "start_time": "2024-08-23T10:15:46.408455Z"
    }
   },
   "outputs": [
    {
     "data": {
      "text/html": [
       "<div>\n",
       "<style scoped>\n",
       "    .dataframe tbody tr th:only-of-type {\n",
       "        vertical-align: middle;\n",
       "    }\n",
       "\n",
       "    .dataframe tbody tr th {\n",
       "        vertical-align: top;\n",
       "    }\n",
       "\n",
       "    .dataframe thead th {\n",
       "        text-align: right;\n",
       "    }\n",
       "</style>\n",
       "<table border=\"1\" class=\"dataframe\">\n",
       "  <thead>\n",
       "    <tr style=\"text-align: right;\">\n",
       "      <th>Department</th>\n",
       "      <th>Human Resources</th>\n",
       "      <th>Research &amp; Development</th>\n",
       "      <th>Sales</th>\n",
       "    </tr>\n",
       "    <tr>\n",
       "      <th>BusinessTravel</th>\n",
       "      <th></th>\n",
       "      <th></th>\n",
       "      <th></th>\n",
       "    </tr>\n",
       "  </thead>\n",
       "  <tbody>\n",
       "    <tr>\n",
       "      <th>Non-Travel</th>\n",
       "      <td>6</td>\n",
       "      <td>97</td>\n",
       "      <td>47</td>\n",
       "    </tr>\n",
       "    <tr>\n",
       "      <th>Travel_Frequently</th>\n",
       "      <td>11</td>\n",
       "      <td>182</td>\n",
       "      <td>84</td>\n",
       "    </tr>\n",
       "    <tr>\n",
       "      <th>Travel_Rarely</th>\n",
       "      <td>46</td>\n",
       "      <td>682</td>\n",
       "      <td>315</td>\n",
       "    </tr>\n",
       "  </tbody>\n",
       "</table>\n",
       "</div>"
      ],
      "text/plain": [
       "Department         Human Resources  Research & Development  Sales\n",
       "BusinessTravel                                                   \n",
       "Non-Travel                       6                      97     47\n",
       "Travel_Frequently               11                     182     84\n",
       "Travel_Rarely                   46                     682    315"
      ]
     },
     "execution_count": 18,
     "metadata": {},
     "output_type": "execute_result"
    }
   ],
   "source": [
    "pd.crosstab(df.BusinessTravel,df.Department)"
   ]
  },
  {
   "cell_type": "code",
   "execution_count": 19,
   "id": "b9d8a6e0",
   "metadata": {
    "ExecuteTime": {
     "end_time": "2024-08-23T10:15:46.663851Z",
     "start_time": "2024-08-23T10:15:46.625855Z"
    }
   },
   "outputs": [
    {
     "data": {
      "text/html": [
       "<div>\n",
       "<style scoped>\n",
       "    .dataframe tbody tr th:only-of-type {\n",
       "        vertical-align: middle;\n",
       "    }\n",
       "\n",
       "    .dataframe tbody tr th {\n",
       "        vertical-align: top;\n",
       "    }\n",
       "\n",
       "    .dataframe thead th {\n",
       "        text-align: right;\n",
       "    }\n",
       "</style>\n",
       "<table border=\"1\" class=\"dataframe\">\n",
       "  <thead>\n",
       "    <tr style=\"text-align: right;\">\n",
       "      <th>JobRole</th>\n",
       "      <th>Healthcare Representative</th>\n",
       "      <th>Human Resources</th>\n",
       "      <th>Laboratory Technician</th>\n",
       "      <th>Manager</th>\n",
       "      <th>Manufacturing Director</th>\n",
       "      <th>Research Director</th>\n",
       "      <th>Research Scientist</th>\n",
       "      <th>Sales Executive</th>\n",
       "      <th>Sales Representative</th>\n",
       "    </tr>\n",
       "    <tr>\n",
       "      <th>BusinessTravel</th>\n",
       "      <th></th>\n",
       "      <th></th>\n",
       "      <th></th>\n",
       "      <th></th>\n",
       "      <th></th>\n",
       "      <th></th>\n",
       "      <th></th>\n",
       "      <th></th>\n",
       "      <th></th>\n",
       "    </tr>\n",
       "  </thead>\n",
       "  <tbody>\n",
       "    <tr>\n",
       "      <th>Non-Travel</th>\n",
       "      <td>15</td>\n",
       "      <td>4</td>\n",
       "      <td>28</td>\n",
       "      <td>12</td>\n",
       "      <td>13</td>\n",
       "      <td>6</td>\n",
       "      <td>28</td>\n",
       "      <td>39</td>\n",
       "      <td>5</td>\n",
       "    </tr>\n",
       "    <tr>\n",
       "      <th>Travel_Frequently</th>\n",
       "      <td>26</td>\n",
       "      <td>10</td>\n",
       "      <td>51</td>\n",
       "      <td>13</td>\n",
       "      <td>29</td>\n",
       "      <td>12</td>\n",
       "      <td>54</td>\n",
       "      <td>59</td>\n",
       "      <td>23</td>\n",
       "    </tr>\n",
       "    <tr>\n",
       "      <th>Travel_Rarely</th>\n",
       "      <td>90</td>\n",
       "      <td>38</td>\n",
       "      <td>180</td>\n",
       "      <td>77</td>\n",
       "      <td>103</td>\n",
       "      <td>62</td>\n",
       "      <td>210</td>\n",
       "      <td>228</td>\n",
       "      <td>55</td>\n",
       "    </tr>\n",
       "  </tbody>\n",
       "</table>\n",
       "</div>"
      ],
      "text/plain": [
       "JobRole            Healthcare Representative  Human Resources  \\\n",
       "BusinessTravel                                                  \n",
       "Non-Travel                                15                4   \n",
       "Travel_Frequently                         26               10   \n",
       "Travel_Rarely                             90               38   \n",
       "\n",
       "JobRole            Laboratory Technician  Manager  Manufacturing Director  \\\n",
       "BusinessTravel                                                              \n",
       "Non-Travel                            28       12                      13   \n",
       "Travel_Frequently                     51       13                      29   \n",
       "Travel_Rarely                        180       77                     103   \n",
       "\n",
       "JobRole            Research Director  Research Scientist  Sales Executive  \\\n",
       "BusinessTravel                                                              \n",
       "Non-Travel                         6                  28               39   \n",
       "Travel_Frequently                 12                  54               59   \n",
       "Travel_Rarely                     62                 210              228   \n",
       "\n",
       "JobRole            Sales Representative  \n",
       "BusinessTravel                           \n",
       "Non-Travel                            5  \n",
       "Travel_Frequently                    23  \n",
       "Travel_Rarely                        55  "
      ]
     },
     "execution_count": 19,
     "metadata": {},
     "output_type": "execute_result"
    }
   ],
   "source": [
    "pd.crosstab(df.BusinessTravel,df.JobRole)"
   ]
  },
  {
   "cell_type": "code",
   "execution_count": 20,
   "id": "7ba7c1ea",
   "metadata": {
    "ExecuteTime": {
     "end_time": "2024-08-23T10:15:46.894742Z",
     "start_time": "2024-08-23T10:15:46.856367Z"
    }
   },
   "outputs": [
    {
     "data": {
      "text/html": [
       "<div>\n",
       "<style scoped>\n",
       "    .dataframe tbody tr th:only-of-type {\n",
       "        vertical-align: middle;\n",
       "    }\n",
       "\n",
       "    .dataframe tbody tr th {\n",
       "        vertical-align: top;\n",
       "    }\n",
       "\n",
       "    .dataframe thead th {\n",
       "        text-align: right;\n",
       "    }\n",
       "</style>\n",
       "<table border=\"1\" class=\"dataframe\">\n",
       "  <thead>\n",
       "    <tr style=\"text-align: right;\">\n",
       "      <th>JobRole</th>\n",
       "      <th>Healthcare Representative</th>\n",
       "      <th>Human Resources</th>\n",
       "      <th>Laboratory Technician</th>\n",
       "      <th>Manager</th>\n",
       "      <th>Manufacturing Director</th>\n",
       "      <th>Research Director</th>\n",
       "      <th>Research Scientist</th>\n",
       "      <th>Sales Executive</th>\n",
       "      <th>Sales Representative</th>\n",
       "    </tr>\n",
       "    <tr>\n",
       "      <th>BusinessTravel</th>\n",
       "      <th></th>\n",
       "      <th></th>\n",
       "      <th></th>\n",
       "      <th></th>\n",
       "      <th></th>\n",
       "      <th></th>\n",
       "      <th></th>\n",
       "      <th></th>\n",
       "      <th></th>\n",
       "    </tr>\n",
       "  </thead>\n",
       "  <tbody>\n",
       "    <tr>\n",
       "      <th>Non-Travel</th>\n",
       "      <td>15</td>\n",
       "      <td>4</td>\n",
       "      <td>28</td>\n",
       "      <td>12</td>\n",
       "      <td>13</td>\n",
       "      <td>6</td>\n",
       "      <td>28</td>\n",
       "      <td>39</td>\n",
       "      <td>5</td>\n",
       "    </tr>\n",
       "    <tr>\n",
       "      <th>Travel_Frequently</th>\n",
       "      <td>26</td>\n",
       "      <td>10</td>\n",
       "      <td>51</td>\n",
       "      <td>13</td>\n",
       "      <td>29</td>\n",
       "      <td>12</td>\n",
       "      <td>54</td>\n",
       "      <td>59</td>\n",
       "      <td>23</td>\n",
       "    </tr>\n",
       "    <tr>\n",
       "      <th>Travel_Rarely</th>\n",
       "      <td>90</td>\n",
       "      <td>38</td>\n",
       "      <td>180</td>\n",
       "      <td>77</td>\n",
       "      <td>103</td>\n",
       "      <td>62</td>\n",
       "      <td>210</td>\n",
       "      <td>228</td>\n",
       "      <td>55</td>\n",
       "    </tr>\n",
       "  </tbody>\n",
       "</table>\n",
       "</div>"
      ],
      "text/plain": [
       "JobRole            Healthcare Representative  Human Resources  \\\n",
       "BusinessTravel                                                  \n",
       "Non-Travel                                15                4   \n",
       "Travel_Frequently                         26               10   \n",
       "Travel_Rarely                             90               38   \n",
       "\n",
       "JobRole            Laboratory Technician  Manager  Manufacturing Director  \\\n",
       "BusinessTravel                                                              \n",
       "Non-Travel                            28       12                      13   \n",
       "Travel_Frequently                     51       13                      29   \n",
       "Travel_Rarely                        180       77                     103   \n",
       "\n",
       "JobRole            Research Director  Research Scientist  Sales Executive  \\\n",
       "BusinessTravel                                                              \n",
       "Non-Travel                         6                  28               39   \n",
       "Travel_Frequently                 12                  54               59   \n",
       "Travel_Rarely                     62                 210              228   \n",
       "\n",
       "JobRole            Sales Representative  \n",
       "BusinessTravel                           \n",
       "Non-Travel                            5  \n",
       "Travel_Frequently                    23  \n",
       "Travel_Rarely                        55  "
      ]
     },
     "execution_count": 20,
     "metadata": {},
     "output_type": "execute_result"
    }
   ],
   "source": [
    "df.pivot_table(index= 'BusinessTravel',\n",
    "               columns='JobRole',values= 'YearsInCurrentRole',aggfunc='count')"
   ]
  },
  {
   "cell_type": "markdown",
   "id": "5f575f65",
   "metadata": {},
   "source": [
    "**Visualizations**"
   ]
  },
  {
   "cell_type": "code",
   "execution_count": 21,
   "id": "832b212c",
   "metadata": {
    "ExecuteTime": {
     "end_time": "2024-08-23T10:15:47.551457Z",
     "start_time": "2024-08-23T10:15:47.376050Z"
    }
   },
   "outputs": [
    {
     "data": {
      "text/plain": [
       "<AxesSubplot:ylabel='Attrition'>"
      ]
     },
     "execution_count": 21,
     "metadata": {},
     "output_type": "execute_result"
    },
    {
     "data": {
      "image/png": "[encoded data removed]",
      "text/plain": [
       "<Figure size 640x480 with 1 Axes>"
      ]
     },
     "metadata": {},
     "output_type": "display_data"
    }
   ],
   "source": [
    "df['Attrition'].value_counts().plot(kind = 'pie',autopct =' %1.1f%%')"
   ]
  },
  {
   "cell_type": "code",
   "execution_count": 22,
   "id": "754b986a",
   "metadata": {
    "ExecuteTime": {
     "end_time": "2024-08-23T10:15:47.754080Z",
     "start_time": "2024-08-23T10:15:47.592487Z"
    }
   },
   "outputs": [
    {
     "data": {
      "text/plain": [
       "<seaborn.axisgrid.FacetGrid at 0x1fd69d00a90>"
      ]
     },
     "execution_count": 22,
     "metadata": {},
     "output_type": "execute_result"
    },
    {
     "data": {
      "image/png": "[encoded data removed]",
      "text/plain": [
       "<Figure size 572.125x500 with 1 Axes>"
      ]
     },
     "metadata": {},
     "output_type": "display_data"
    }
   ],
   "source": [
    "sns.catplot(data = df, y = 'Department',hue = 'Attrition', kind='count')"
   ]
  },
  {
   "cell_type": "code",
   "execution_count": 23,
   "id": "d7fcc98b",
   "metadata": {
    "ExecuteTime": {
     "end_time": "2024-08-23T10:15:48.390611Z",
     "start_time": "2024-08-23T10:15:48.194525Z"
    }
   },
   "outputs": [
    {
     "data": {
      "text/plain": [
       "<seaborn.axisgrid.FacetGrid at 0x1fd69d99b20>"
      ]
     },
     "execution_count": 23,
     "metadata": {},
     "output_type": "execute_result"
    },
    {
     "data": {
      "image/png": "[encoded data removed]",
      "text/plain": [
       "<Figure size 572.125x500 with 1 Axes>"
      ]
     },
     "metadata": {},
     "output_type": "display_data"
    }
   ],
   "source": [
    "sns.catplot(data = df, y = 'JobRole',hue = 'Attrition', kind='count')"
   ]
  },
  {
   "cell_type": "code",
   "execution_count": 24,
   "id": "21a9f92f",
   "metadata": {
    "ExecuteTime": {
     "end_time": "2024-08-23T10:15:49.049905Z",
     "start_time": "2024-08-23T10:15:48.711849Z"
    }
   },
   "outputs": [
    {
     "data": {
      "text/plain": [
       "<seaborn.axisgrid.FacetGrid at 0x1fd691eed60>"
      ]
     },
     "execution_count": 24,
     "metadata": {},
     "output_type": "execute_result"
    },
    {
     "data": {
      "image/png": "[encoded data removed]",
      "text/plain": [
       "<Figure size 578.611x500 with 1 Axes>"
      ]
     },
     "metadata": {},
     "output_type": "display_data"
    }
   ],
   "source": [
    "sns.catplot(data = df, y = 'JobRole',hue = 'OverTime', kind='count')"
   ]
  },
  {
   "cell_type": "code",
   "execution_count": 25,
   "id": "d8a38018",
   "metadata": {
    "ExecuteTime": {
     "end_time": "2024-08-23T10:15:49.450177Z",
     "start_time": "2024-08-23T10:15:49.194548Z"
    }
   },
   "outputs": [
    {
     "data": {
      "text/plain": [
       "<AxesSubplot:xlabel='YearsInCurrentRole', ylabel='JobRole'>"
      ]
     },
     "execution_count": 25,
     "metadata": {},
     "output_type": "execute_result"
    },
    {
     "data": {
      "image/png": "[encoded data removed]",
      "text/plain": [
       "<Figure size 1500x800 with 1 Axes>"
      ]
     },
     "metadata": {},
     "output_type": "display_data"
    }
   ],
   "source": [
    "plt.figure(figsize=(15,8))\n",
    "sns.barplot(data=df,y= 'JobRole',x = 'YearsInCurrentRole',ci=False)"
   ]
  },
  {
   "cell_type": "code",
   "execution_count": 26,
   "id": "2419f900",
   "metadata": {
    "ExecuteTime": {
     "end_time": "2024-08-23T10:15:49.965762Z",
     "start_time": "2024-08-23T10:15:49.745965Z"
    }
   },
   "outputs": [
    {
     "data": {
      "text/plain": [
       "<seaborn.axisgrid.FacetGrid at 0x1fd69e28f40>"
      ]
     },
     "execution_count": 26,
     "metadata": {},
     "output_type": "execute_result"
    },
    {
     "data": {
      "image/png": "[encoded data removed]",
      "text/plain": [
       "<Figure size 672.125x500 with 1 Axes>"
      ]
     },
     "metadata": {},
     "output_type": "display_data"
    }
   ],
   "source": [
    "sns.catplot(data = df, y = 'JobRole',hue = 'BusinessTravel', kind='count')"
   ]
  },
  {
   "cell_type": "code",
   "execution_count": 27,
   "id": "0d850675",
   "metadata": {
    "ExecuteTime": {
     "end_time": "2024-08-23T10:15:50.250190Z",
     "start_time": "2024-08-23T10:15:50.211499Z"
    }
   },
   "outputs": [
    {
     "data": {
      "text/html": [
       "<div>\n",
       "<style scoped>\n",
       "    .dataframe tbody tr th:only-of-type {\n",
       "        vertical-align: middle;\n",
       "    }\n",
       "\n",
       "    .dataframe tbody tr th {\n",
       "        vertical-align: top;\n",
       "    }\n",
       "\n",
       "    .dataframe thead th {\n",
       "        text-align: right;\n",
       "    }\n",
       "</style>\n",
       "<table border=\"1\" class=\"dataframe\">\n",
       "  <thead>\n",
       "    <tr style=\"text-align: right;\">\n",
       "      <th></th>\n",
       "      <th>EmpID</th>\n",
       "      <th>HourlyRate</th>\n",
       "      <th>JobSatisfaction</th>\n",
       "      <th>MonthlyRate</th>\n",
       "      <th>NumCompaniesWorked</th>\n",
       "      <th>PercentSalaryHike</th>\n",
       "      <th>TotalWorkingYears</th>\n",
       "      <th>YearsAtCompany</th>\n",
       "      <th>YearsInCurrentRole</th>\n",
       "      <th>YearsSinceLastPromotion</th>\n",
       "      <th>...</th>\n",
       "      <th>JobRole_Human Resources</th>\n",
       "      <th>JobRole_Laboratory Technician</th>\n",
       "      <th>JobRole_Manager</th>\n",
       "      <th>JobRole_Manufacturing Director</th>\n",
       "      <th>JobRole_Research Director</th>\n",
       "      <th>JobRole_Research Scientist</th>\n",
       "      <th>JobRole_Sales Executive</th>\n",
       "      <th>JobRole_Sales Representative</th>\n",
       "      <th>OverTime_Yes</th>\n",
       "      <th>Attrition_Yes</th>\n",
       "    </tr>\n",
       "  </thead>\n",
       "  <tbody>\n",
       "    <tr>\n",
       "      <th>0</th>\n",
       "      <td>2102210</td>\n",
       "      <td>94</td>\n",
       "      <td>4</td>\n",
       "      <td>19479</td>\n",
       "      <td>8</td>\n",
       "      <td>11</td>\n",
       "      <td>8</td>\n",
       "      <td>6</td>\n",
       "      <td>4</td>\n",
       "      <td>0</td>\n",
       "      <td>...</td>\n",
       "      <td>0</td>\n",
       "      <td>0</td>\n",
       "      <td>0</td>\n",
       "      <td>0</td>\n",
       "      <td>0</td>\n",
       "      <td>0</td>\n",
       "      <td>1</td>\n",
       "      <td>0</td>\n",
       "      <td>1</td>\n",
       "      <td>1</td>\n",
       "    </tr>\n",
       "    <tr>\n",
       "      <th>1</th>\n",
       "      <td>2102211</td>\n",
       "      <td>61</td>\n",
       "      <td>2</td>\n",
       "      <td>24907</td>\n",
       "      <td>1</td>\n",
       "      <td>23</td>\n",
       "      <td>10</td>\n",
       "      <td>10</td>\n",
       "      <td>7</td>\n",
       "      <td>1</td>\n",
       "      <td>...</td>\n",
       "      <td>0</td>\n",
       "      <td>0</td>\n",
       "      <td>0</td>\n",
       "      <td>0</td>\n",
       "      <td>0</td>\n",
       "      <td>1</td>\n",
       "      <td>0</td>\n",
       "      <td>0</td>\n",
       "      <td>0</td>\n",
       "      <td>0</td>\n",
       "    </tr>\n",
       "    <tr>\n",
       "      <th>2</th>\n",
       "      <td>2102212</td>\n",
       "      <td>92</td>\n",
       "      <td>3</td>\n",
       "      <td>2396</td>\n",
       "      <td>6</td>\n",
       "      <td>15</td>\n",
       "      <td>7</td>\n",
       "      <td>0</td>\n",
       "      <td>0</td>\n",
       "      <td>0</td>\n",
       "      <td>...</td>\n",
       "      <td>0</td>\n",
       "      <td>1</td>\n",
       "      <td>0</td>\n",
       "      <td>0</td>\n",
       "      <td>0</td>\n",
       "      <td>0</td>\n",
       "      <td>0</td>\n",
       "      <td>0</td>\n",
       "      <td>1</td>\n",
       "      <td>1</td>\n",
       "    </tr>\n",
       "    <tr>\n",
       "      <th>3</th>\n",
       "      <td>2102213</td>\n",
       "      <td>56</td>\n",
       "      <td>3</td>\n",
       "      <td>23159</td>\n",
       "      <td>1</td>\n",
       "      <td>11</td>\n",
       "      <td>8</td>\n",
       "      <td>8</td>\n",
       "      <td>7</td>\n",
       "      <td>3</td>\n",
       "      <td>...</td>\n",
       "      <td>0</td>\n",
       "      <td>0</td>\n",
       "      <td>0</td>\n",
       "      <td>0</td>\n",
       "      <td>0</td>\n",
       "      <td>1</td>\n",
       "      <td>0</td>\n",
       "      <td>0</td>\n",
       "      <td>1</td>\n",
       "      <td>0</td>\n",
       "    </tr>\n",
       "    <tr>\n",
       "      <th>4</th>\n",
       "      <td>2102214</td>\n",
       "      <td>40</td>\n",
       "      <td>2</td>\n",
       "      <td>16632</td>\n",
       "      <td>9</td>\n",
       "      <td>12</td>\n",
       "      <td>6</td>\n",
       "      <td>2</td>\n",
       "      <td>2</td>\n",
       "      <td>2</td>\n",
       "      <td>...</td>\n",
       "      <td>0</td>\n",
       "      <td>1</td>\n",
       "      <td>0</td>\n",
       "      <td>0</td>\n",
       "      <td>0</td>\n",
       "      <td>0</td>\n",
       "      <td>0</td>\n",
       "      <td>0</td>\n",
       "      <td>0</td>\n",
       "      <td>0</td>\n",
       "    </tr>\n",
       "  </tbody>\n",
       "</table>\n",
       "<p>5 rows × 25 columns</p>\n",
       "</div>"
      ],
      "text/plain": [
       "     EmpID  HourlyRate  JobSatisfaction  MonthlyRate  NumCompaniesWorked  \\\n",
       "0  2102210          94                4        19479                   8   \n",
       "1  2102211          61                2        24907                   1   \n",
       "2  2102212          92                3         2396                   6   \n",
       "3  2102213          56                3        23159                   1   \n",
       "4  2102214          40                2        16632                   9   \n",
       "\n",
       "   PercentSalaryHike  TotalWorkingYears  YearsAtCompany  YearsInCurrentRole  \\\n",
       "0                 11                  8               6                   4   \n",
       "1                 23                 10              10                   7   \n",
       "2                 15                  7               0                   0   \n",
       "3                 11                  8               8                   7   \n",
       "4                 12                  6               2                   2   \n",
       "\n",
       "   YearsSinceLastPromotion  ...  JobRole_Human Resources  \\\n",
       "0                        0  ...                        0   \n",
       "1                        1  ...                        0   \n",
       "2                        0  ...                        0   \n",
       "3                        3  ...                        0   \n",
       "4                        2  ...                        0   \n",
       "\n",
       "   JobRole_Laboratory Technician  JobRole_Manager  \\\n",
       "0                              0                0   \n",
       "1                              0                0   \n",
       "2                              1                0   \n",
       "3                              0                0   \n",
       "4                              1                0   \n",
       "\n",
       "   JobRole_Manufacturing Director  JobRole_Research Director  \\\n",
       "0                               0                          0   \n",
       "1                               0                          0   \n",
       "2                               0                          0   \n",
       "3                               0                          0   \n",
       "4                               0                          0   \n",
       "\n",
       "   JobRole_Research Scientist  JobRole_Sales Executive  \\\n",
       "0                           0                        1   \n",
       "1                           1                        0   \n",
       "2                           0                        0   \n",
       "3                           1                        0   \n",
       "4                           0                        0   \n",
       "\n",
       "   JobRole_Sales Representative  OverTime_Yes  Attrition_Yes  \n",
       "0                             0             1              1  \n",
       "1                             0             0              0  \n",
       "2                             0             1              1  \n",
       "3                             0             1              0  \n",
       "4                             0             0              0  \n",
       "\n",
       "[5 rows x 25 columns]"
      ]
     },
     "execution_count": 27,
     "metadata": {},
     "output_type": "execute_result"
    }
   ],
   "source": [
    "dummies = pd.get_dummies(data = df,drop_first = True)\n",
    "dummies.head()"
   ]
  },
  {
   "cell_type": "markdown",
   "id": "b4618f18",
   "metadata": {},
   "source": [
    "**Model Building**"
   ]
  },
  {
   "cell_type": "code",
   "execution_count": 28,
   "id": "f6bf94db",
   "metadata": {
    "ExecuteTime": {
     "end_time": "2024-08-23T10:15:52.379645Z",
     "start_time": "2024-08-23T10:15:51.230747Z"
    }
   },
   "outputs": [],
   "source": [
    "from sklearn.linear_model import LogisticRegression\n",
    "import statsmodels.api as sm"
   ]
  },
  {
   "cell_type": "code",
   "execution_count": 29,
   "id": "9ef84983",
   "metadata": {
    "ExecuteTime": {
     "end_time": "2024-08-23T10:15:52.400193Z",
     "start_time": "2024-08-23T10:15:52.390626Z"
    }
   },
   "outputs": [],
   "source": [
    "X = dummies.drop('Attrition_Yes',axis=1)\n",
    "y= dummies['Attrition_Yes']"
   ]
  },
  {
   "cell_type": "code",
   "execution_count": 30,
   "id": "725db358",
   "metadata": {
    "ExecuteTime": {
     "end_time": "2024-08-23T10:15:53.545760Z",
     "start_time": "2024-08-23T10:15:53.494351Z"
    }
   },
   "outputs": [],
   "source": [
    "from sklearn.model_selection import train_test_split\n",
    "\n",
    "X_train, X_test, y_train, y_test = train_test_split(X, y, test_size=0.3, random_state=42, stratify=y)"
   ]
  },
  {
   "cell_type": "code",
   "execution_count": 31,
   "id": "64edc9f4",
   "metadata": {
    "ExecuteTime": {
     "end_time": "2024-08-23T10:16:00.458961Z",
     "start_time": "2024-08-23T10:15:54.229544Z"
    }
   },
   "outputs": [
    {
     "data": {
      "text/plain": [
       "LogisticRegression(n_jobs=-1, solver='newton-cg')"
      ]
     },
     "execution_count": 31,
     "metadata": {},
     "output_type": "execute_result"
    }
   ],
   "source": [
    "logit = LogisticRegression(solver = 'newton-cg', n_jobs=-1)\n",
    "logit.fit(X_train, y_train)"
   ]
  },
  {
   "cell_type": "code",
   "execution_count": 32,
   "id": "67a5291f",
   "metadata": {
    "ExecuteTime": {
     "end_time": "2024-08-23T10:16:00.493410Z",
     "start_time": "2024-08-23T10:16:00.484306Z"
    }
   },
   "outputs": [],
   "source": [
    "pred_train = logit.predict(X_train)\n",
    "pred_test = logit.predict(X_test)"
   ]
  },
  {
   "cell_type": "code",
   "execution_count": 33,
   "id": "948401ed",
   "metadata": {
    "ExecuteTime": {
     "end_time": "2024-08-23T10:16:02.812952Z",
     "start_time": "2024-08-23T10:16:02.787561Z"
    }
   },
   "outputs": [
    {
     "name": "stdout",
     "output_type": "stream",
     "text": [
      "              precision    recall  f1-score   support\n",
      "\n",
      "           0       0.87      0.98      0.92       863\n",
      "           1       0.65      0.22      0.33       166\n",
      "\n",
      "    accuracy                           0.86      1029\n",
      "   macro avg       0.76      0.60      0.63      1029\n",
      "weighted avg       0.83      0.86      0.82      1029\n",
      "\n"
     ]
    }
   ],
   "source": [
    "from sklearn.metrics import classification_report\n",
    "\n",
    "print(classification_report(y_train, pred_train))"
   ]
  },
  {
   "cell_type": "code",
   "execution_count": 34,
   "id": "6351ab39",
   "metadata": {
    "ExecuteTime": {
     "end_time": "2024-08-23T10:16:04.019724Z",
     "start_time": "2024-08-23T10:16:04.002738Z"
    }
   },
   "outputs": [
    {
     "name": "stdout",
     "output_type": "stream",
     "text": [
      "              precision    recall  f1-score   support\n",
      "\n",
      "           0       0.87      0.98      0.92       370\n",
      "           1       0.70      0.23      0.34        71\n",
      "\n",
      "    accuracy                           0.86       441\n",
      "   macro avg       0.78      0.60      0.63       441\n",
      "weighted avg       0.84      0.86      0.83       441\n",
      "\n"
     ]
    }
   ],
   "source": [
    "print(classification_report(y_test, pred_test))"
   ]
  },
  {
   "cell_type": "markdown",
   "id": "85cf227f",
   "metadata": {},
   "source": [
    "Here we can see that test recall also model error which is 23-100 = 77% which is too high and we know the random error is \n",
    "84% even ME < RE we need to reduce the error also by removing the p-value  greater than 0.05 or we can add class weight by swaping \n",
    "the error"
   ]
  },
  {
   "cell_type": "code",
   "execution_count": 35,
   "id": "e6664009",
   "metadata": {
    "ExecuteTime": {
     "end_time": "2024-08-23T10:17:01.937400Z",
     "start_time": "2024-08-23T10:17:01.915987Z"
    }
   },
   "outputs": [],
   "source": [
    "x = dummies.drop('Attrition_Yes',axis=1)\n",
    "y= dummies['Attrition_Yes']"
   ]
  },
  {
   "cell_type": "code",
   "execution_count": 36,
   "id": "8e075972",
   "metadata": {
    "ExecuteTime": {
     "end_time": "2024-08-23T10:17:02.780901Z",
     "start_time": "2024-08-23T10:17:02.766666Z"
    }
   },
   "outputs": [],
   "source": [
    "from sklearn.model_selection import train_test_split\n",
    "\n",
    "X_train, X_test, y_train, y_test = train_test_split(x, y, test_size=0.3, random_state=42, stratify=y)"
   ]
  },
  {
   "cell_type": "code",
   "execution_count": 38,
   "id": "49c5b755",
   "metadata": {
    "ExecuteTime": {
     "end_time": "2024-08-23T10:18:23.900659Z",
     "start_time": "2024-08-23T10:18:23.090124Z"
    }
   },
   "outputs": [
    {
     "data": {
      "text/plain": [
       "LogisticRegression(class_weight={0: 0.16, 1: 0.84}, n_jobs=-1,\n",
       "                   solver='newton-cg')"
      ]
     },
     "execution_count": 38,
     "metadata": {},
     "output_type": "execute_result"
    }
   ],
   "source": [
    "logit = LogisticRegression(solver = 'newton-cg', n_jobs=-1, class_weight={0:0.16, 1:0.84})\n",
    "logit.fit(X_train, y_train)"
   ]
  },
  {
   "cell_type": "code",
   "execution_count": 39,
   "id": "c8ceeb57",
   "metadata": {
    "ExecuteTime": {
     "end_time": "2024-08-23T10:18:24.804327Z",
     "start_time": "2024-08-23T10:18:24.787824Z"
    }
   },
   "outputs": [],
   "source": [
    "pred_train = logit.predict(X_train)\n",
    "pred_test = logit.predict(X_test)"
   ]
  },
  {
   "cell_type": "code",
   "execution_count": 40,
   "id": "54e6e9d5",
   "metadata": {
    "ExecuteTime": {
     "end_time": "2024-08-23T10:18:25.546483Z",
     "start_time": "2024-08-23T10:18:25.523049Z"
    }
   },
   "outputs": [
    {
     "name": "stdout",
     "output_type": "stream",
     "text": [
      "              precision    recall  f1-score   support\n",
      "\n",
      "           0       0.94      0.72      0.81       863\n",
      "           1       0.34      0.76      0.47       166\n",
      "\n",
      "    accuracy                           0.72      1029\n",
      "   macro avg       0.64      0.74      0.64      1029\n",
      "weighted avg       0.84      0.72      0.76      1029\n",
      "\n"
     ]
    }
   ],
   "source": [
    "from sklearn.metrics import classification_report\n",
    "\n",
    "print(classification_report(y_train, pred_train))"
   ]
  },
  {
   "cell_type": "code",
   "execution_count": 41,
   "id": "0ee3b15a",
   "metadata": {
    "ExecuteTime": {
     "end_time": "2024-08-23T10:18:26.268910Z",
     "start_time": "2024-08-23T10:18:26.252870Z"
    }
   },
   "outputs": [
    {
     "name": "stdout",
     "output_type": "stream",
     "text": [
      "              precision    recall  f1-score   support\n",
      "\n",
      "           0       0.93      0.74      0.82       370\n",
      "           1       0.34      0.72      0.47        71\n",
      "\n",
      "    accuracy                           0.73       441\n",
      "   macro avg       0.64      0.73      0.64       441\n",
      "weighted avg       0.84      0.73      0.77       441\n",
      "\n"
     ]
    }
   ],
   "source": [
    "print(classification_report(y_test, pred_test))"
   ]
  },
  {
   "cell_type": "markdown",
   "id": "485e4795",
   "metadata": {},
   "source": [
    "By this recall test result we can see the ME is 0.72 which is 72 - 100 is 28% we can say logistic regression performs better"
   ]
  },
  {
   "cell_type": "code",
   "execution_count": null,
   "id": "adf1d37f",
   "metadata": {},
   "outputs": [],
   "source": []
  },
  {
   "cell_type": "code",
   "execution_count": null,
   "id": "bcc111cc",
   "metadata": {},
   "outputs": [],
   "source": []
  },
  {
   "cell_type": "code",
   "execution_count": null,
   "id": "718752fa",
   "metadata": {},
   "outputs": [],
   "source": []
  },
  {
   "cell_type": "code",
   "execution_count": null,
   "id": "2812d7f8",
   "metadata": {},
   "outputs": [],
   "source": []
  }
 ],
 "metadata": {
  "kernelspec": {
   "display_name": "Python 3 (ipykernel)",
   "language": "python",
   "name": "python3"
  },
  "language_info": {
   "codemirror_mode": {
    "name": "ipython",
    "version": 3
   },
   "file_extension": ".py",
   "mimetype": "text/x-python",
   "name": "python",
   "nbconvert_exporter": "python",
   "pygments_lexer": "ipython3",
   "version": "3.9.13"
  },
  "varInspector": {
   "cols": {
    "lenName": 16,
    "lenType": 16,
    "lenVar": 40
   },
   "kernels_config": {
    "python": {
     "delete_cmd_postfix": "",
     "delete_cmd_prefix": "del ",
     "library": "var_list.py",
     "varRefreshCmd": "print(var_dic_list())"
    },
    "r": {
     "delete_cmd_postfix": ") ",
     "delete_cmd_prefix": "rm(",
     "library": "var_list.r",
     "varRefreshCmd": "cat(var_dic_list()) "
    }
   },
   "types_to_exclude": [
    "module",
    "function",
    "builtin_function_or_method",
    "instance",
    "_Feature"
   ],
   "window_display": false
  }
 },
 "nbformat": 4,
 "nbformat_minor": 5
}
